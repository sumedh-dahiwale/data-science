{
  "nbformat": 4,
  "nbformat_minor": 0,
  "metadata": {
    "colab": {
      "provenance": [],
      "authorship_tag": "ABX9TyM16Q7LcdgU0co21cp6YY4g",
      "include_colab_link": true
    },
    "kernelspec": {
      "name": "python3",
      "display_name": "Python 3"
    },
    "language_info": {
      "name": "python"
    }
  },
  "cells": [
    {
      "cell_type": "markdown",
      "metadata": {
        "id": "view-in-github",
        "colab_type": "text"
      },
      "source": [
        "<a href=\"https://colab.research.google.com/github/sumedh-dahiwale/data-science/blob/main/StudentPerformance.ipynb\" target=\"_parent\"><img src=\"https://colab.research.google.com/assets/colab-badge.svg\" alt=\"Open In Colab\"/></a>"
      ]
    },
    {
      "cell_type": "markdown",
      "source": [
        "#Student performance EDA\n"
      ],
      "metadata": {
        "id": "LPlPmTEgCJwT"
      }
    },
    {
      "cell_type": "code",
      "execution_count": 1,
      "metadata": {
        "id": "38xPE7q3CFLw"
      },
      "outputs": [],
      "source": [
        "#Student performance EDA\n",
        "import numpy as np\n",
        "import pandas as pd\n",
        "import seaborn as sns\n",
        "\n"
      ]
    },
    {
      "cell_type": "code",
      "source": [
        "df = pd.read_csv('exams.csv')"
      ],
      "metadata": {
        "id": "6A471BFbCf30"
      },
      "execution_count": 6,
      "outputs": []
    },
    {
      "cell_type": "code",
      "source": [
        "df"
      ],
      "metadata": {
        "colab": {
          "base_uri": "https://localhost:8080/",
          "height": 179
        },
        "id": "QscJEQJLCgAg",
        "outputId": "7831ce8e-0416-4f81-c4f1-0c062d08897c"
      },
      "execution_count": 5,
      "outputs": [
        {
          "output_type": "error",
          "ename": "NameError",
          "evalue": "ignored",
          "traceback": [
            "\u001b[0;31m---------------------------------------------------------------------------\u001b[0m",
            "\u001b[0;31mNameError\u001b[0m                                 Traceback (most recent call last)",
            "\u001b[0;32m<ipython-input-5-00cf07b74dcd>\u001b[0m in \u001b[0;36m<cell line: 1>\u001b[0;34m()\u001b[0m\n\u001b[0;32m----> 1\u001b[0;31m \u001b[0mdf\u001b[0m\u001b[0;34m\u001b[0m\u001b[0;34m\u001b[0m\u001b[0m\n\u001b[0m",
            "\u001b[0;31mNameError\u001b[0m: name 'df' is not defined"
          ]
        }
      ]
    },
    {
      "cell_type": "code",
      "source": [
        "plt.subplots(1,3,figsize=(15,7))\n",
        "plt.subplot(141)\n",
        "sns.histplot(data=df, x='average',kde=True, hue='lunch')\n",
        "plt.subplot(142)\n",
        "sns.histplot(data=df[df.gender=='female'], x='average',kde=True, hue='lunch')\n",
        "plt.subplot(143)\n",
        "sns.histplot(data=df[df.gender=='male'], x='average',kde=True, hue='lunch')"
      ],
      "metadata": {
        "id": "gk-xdCvEDeQg"
      },
      "execution_count": null,
      "outputs": []
    }
  ]
}