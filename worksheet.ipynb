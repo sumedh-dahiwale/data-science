{
  "nbformat": 4,
  "nbformat_minor": 0,
  "metadata": {
    "colab": {
      "provenance": [],
      "authorship_tag": "ABX9TyNuo3LDDCJc6A5wHu8BsH4N",
      "include_colab_link": true
    },
    "kernelspec": {
      "name": "python3",
      "display_name": "Python 3"
    },
    "language_info": {
      "name": "python"
    }
  },
  "cells": [
    {
      "cell_type": "markdown",
      "metadata": {
        "id": "view-in-github",
        "colab_type": "text"
      },
      "source": [
        "<a href=\"https://colab.research.google.com/github/sumedh-dahiwale/data-science/blob/main/worksheet.ipynb\" target=\"_parent\"><img src=\"https://colab.research.google.com/assets/colab-badge.svg\" alt=\"Open In Colab\"/></a>"
      ]
    },
    {
      "cell_type": "code",
      "execution_count": 2,
      "metadata": {
        "id": "V2UpGDv5GSw6"
      },
      "outputs": [],
      "source": [
        "#Calculate mean\n",
        "import numpy as np\n",
        "\n",
        "list1 = [1,4,5,6,7,8]"
      ]
    },
    {
      "cell_type": "code",
      "source": [
        "# Calculating average using average()\n",
        "\n",
        "print(np.average(list1))"
      ],
      "metadata": {
        "colab": {
          "base_uri": "https://localhost:8080/"
        },
        "id": "lVXiXNNLMVVQ",
        "outputId": "bf77af3a-ce55-4752-d7f0-9806b91767cf"
      },
      "execution_count": 3,
      "outputs": [
        {
          "output_type": "stream",
          "name": "stdout",
          "text": [
            "5.166666666666667\n"
          ]
        }
      ]
    },
    {
      "cell_type": "code",
      "source": [
        "# Calculate variance using var()\n",
        "print(np.var(list1))"
      ],
      "metadata": {
        "colab": {
          "base_uri": "https://localhost:8080/"
        },
        "id": "reyC4s6ENM3l",
        "outputId": "85dcf7ab-3895-4d99-cc1a-69b5c54168e5"
      },
      "execution_count": 4,
      "outputs": [
        {
          "output_type": "stream",
          "name": "stdout",
          "text": [
            "5.138888888888889\n"
          ]
        }
      ]
    },
    {
      "cell_type": "code",
      "source": [
        "# Calculate standard deviation\n",
        "\n",
        "print(np.std(list1))"
      ],
      "metadata": {
        "colab": {
          "base_uri": "https://localhost:8080/"
        },
        "id": "oL_hSwHdNmrk",
        "outputId": "31af3a4e-98ad-4eea-8ade-cf33724b749a"
      },
      "execution_count": 5,
      "outputs": [
        {
          "output_type": "stream",
          "name": "stdout",
          "text": [
            "2.266911751455907\n"
          ]
        }
      ]
    }
  ]
}